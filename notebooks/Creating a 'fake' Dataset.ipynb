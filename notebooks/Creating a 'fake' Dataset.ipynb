{
 "cells": [
  {
   "cell_type": "code",
   "execution_count": 1,
   "id": "fc63d731",
   "metadata": {},
   "outputs": [],
   "source": [
    "from datetime import date\n",
    "import numpy as np\n",
    "import pandas as pd\n",
    "import matplotlib.pyplot as plt"
   ]
  },
  {
   "cell_type": "code",
   "execution_count": 2,
   "id": "6e42637f",
   "metadata": {},
   "outputs": [],
   "source": [
    "action_data = {'action_id': np.arange(0,10000), \n",
    "        'action_performed': np.random.randint(1,10, size=10_000), \n",
    "        'user_id': np.random.randint(0,2000, size=10_000), \n",
    "        'action_date': np.random.randint(1,365, size=10_000)}\n",
    "action_df = pd.DataFrame(action_data)"
   ]
  },
  {
   "cell_type": "code",
   "execution_count": 3,
   "id": "578aab21",
   "metadata": {},
   "outputs": [
    {
     "data": {
      "text/html": [
       "<div>\n",
       "<style scoped>\n",
       "    .dataframe tbody tr th:only-of-type {\n",
       "        vertical-align: middle;\n",
       "    }\n",
       "\n",
       "    .dataframe tbody tr th {\n",
       "        vertical-align: top;\n",
       "    }\n",
       "\n",
       "    .dataframe thead th {\n",
       "        text-align: right;\n",
       "    }\n",
       "</style>\n",
       "<table border=\"1\" class=\"dataframe\">\n",
       "  <thead>\n",
       "    <tr style=\"text-align: right;\">\n",
       "      <th></th>\n",
       "      <th>action_id</th>\n",
       "      <th>action_performed</th>\n",
       "      <th>user_id</th>\n",
       "      <th>action_date</th>\n",
       "    </tr>\n",
       "  </thead>\n",
       "  <tbody>\n",
       "    <tr>\n",
       "      <th>0</th>\n",
       "      <td>0</td>\n",
       "      <td>Main Access</td>\n",
       "      <td>855</td>\n",
       "      <td>2021-04-05</td>\n",
       "    </tr>\n",
       "    <tr>\n",
       "      <th>1</th>\n",
       "      <td>1</td>\n",
       "      <td>Main Access</td>\n",
       "      <td>1849</td>\n",
       "      <td>2021-01-06</td>\n",
       "    </tr>\n",
       "    <tr>\n",
       "      <th>2</th>\n",
       "      <td>2</td>\n",
       "      <td>Endpoint A</td>\n",
       "      <td>1582</td>\n",
       "      <td>2021-06-19</td>\n",
       "    </tr>\n",
       "    <tr>\n",
       "      <th>3</th>\n",
       "      <td>3</td>\n",
       "      <td>Doctor</td>\n",
       "      <td>1602</td>\n",
       "      <td>2021-12-20</td>\n",
       "    </tr>\n",
       "    <tr>\n",
       "      <th>4</th>\n",
       "      <td>4</td>\n",
       "      <td>Main Access</td>\n",
       "      <td>96</td>\n",
       "      <td>2021-10-10</td>\n",
       "    </tr>\n",
       "    <tr>\n",
       "      <th>...</th>\n",
       "      <td>...</td>\n",
       "      <td>...</td>\n",
       "      <td>...</td>\n",
       "      <td>...</td>\n",
       "    </tr>\n",
       "    <tr>\n",
       "      <th>9995</th>\n",
       "      <td>9995</td>\n",
       "      <td>Report</td>\n",
       "      <td>820</td>\n",
       "      <td>2021-05-11</td>\n",
       "    </tr>\n",
       "    <tr>\n",
       "      <th>9996</th>\n",
       "      <td>9996</td>\n",
       "      <td>Main Access</td>\n",
       "      <td>204</td>\n",
       "      <td>2021-08-25</td>\n",
       "    </tr>\n",
       "    <tr>\n",
       "      <th>9997</th>\n",
       "      <td>9997</td>\n",
       "      <td>Endpoint B</td>\n",
       "      <td>361</td>\n",
       "      <td>2021-09-05</td>\n",
       "    </tr>\n",
       "    <tr>\n",
       "      <th>9998</th>\n",
       "      <td>9998</td>\n",
       "      <td>Main Access</td>\n",
       "      <td>1730</td>\n",
       "      <td>2021-04-30</td>\n",
       "    </tr>\n",
       "    <tr>\n",
       "      <th>9999</th>\n",
       "      <td>9999</td>\n",
       "      <td>Doctor</td>\n",
       "      <td>1023</td>\n",
       "      <td>2021-05-17</td>\n",
       "    </tr>\n",
       "  </tbody>\n",
       "</table>\n",
       "<p>10000 rows × 4 columns</p>\n",
       "</div>"
      ],
      "text/plain": [
       "      action_id action_performed  user_id action_date\n",
       "0             0      Main Access      855  2021-04-05\n",
       "1             1      Main Access     1849  2021-01-06\n",
       "2             2       Endpoint A     1582  2021-06-19\n",
       "3             3           Doctor     1602  2021-12-20\n",
       "4             4      Main Access       96  2021-10-10\n",
       "...         ...              ...      ...         ...\n",
       "9995       9995           Report      820  2021-05-11\n",
       "9996       9996      Main Access      204  2021-08-25\n",
       "9997       9997       Endpoint B      361  2021-09-05\n",
       "9998       9998      Main Access     1730  2021-04-30\n",
       "9999       9999           Doctor     1023  2021-05-17\n",
       "\n",
       "[10000 rows x 4 columns]"
      ]
     },
     "execution_count": 3,
     "metadata": {},
     "output_type": "execute_result"
    }
   ],
   "source": [
    "action_df['action_date'] = pd.to_datetime(action_df['action_date'], unit='D', origin=pd.Timestamp('2021-01-01'))\n",
    "action_df['action_performed'] = action_df['action_performed'].replace({1: 'Report', \n",
    "                                                                       2: 'Doctor', \n",
    "                                                                       3: 'Main Access', \n",
    "                                                                       4: 'Main Access',\n",
    "                                                                       5: 'Main Access',\n",
    "                                                                       6: 'Main Access',\n",
    "                                                                       7: 'Endpoint A', \n",
    "                                                                       8: 'Endpoint B', \n",
    "                                                                       9: 'Endpoint C', \n",
    "                                                                       10: 'Endpoint D'})\n",
    "action_df"
   ]
  },
  {
   "cell_type": "code",
   "execution_count": 10,
   "id": "57fd7479",
   "metadata": {},
   "outputs": [
    {
     "data": {
      "text/plain": [
       "(array([1030.,  970.,  979., 1051., 1017.,  917., 1036.,  976.,  973.,\n",
       "        1051.]),\n",
       " array([18629. , 18665.3, 18701.6, 18737.9, 18774.2, 18810.5, 18846.8,\n",
       "        18883.1, 18919.4, 18955.7, 18992. ]),\n",
       " <BarContainer object of 10 artists>)"
      ]
     },
     "execution_count": 10,
     "metadata": {},
     "output_type": "execute_result"
    },
    {
     "data": {
      "image/png": "[encoded data removed]",
      "text/plain": [
       "<Figure size 432x288 with 1 Axes>"
      ]
     },
     "metadata": {
      "needs_background": "light"
     },
     "output_type": "display_data"
    }
   ],
   "source": [
    "plt.hist(action_df['action_date'])"
   ]
  },
  {
   "cell_type": "code",
   "execution_count": 4,
   "id": "de7c3d6c",
   "metadata": {},
   "outputs": [
    {
     "name": "stdout",
     "output_type": "stream",
     "text": [
      "<class 'pandas.core.frame.DataFrame'>\n",
      "RangeIndex: 2000 entries, 0 to 1999\n",
      "Data columns (total 3 columns):\n",
      " #   Column             Non-Null Count  Dtype         \n",
      "---  ------             --------------  -----         \n",
      " 0   user_id            2000 non-null   int64         \n",
      " 1   subscription_date  2000 non-null   datetime64[ns]\n",
      " 2   today              2000 non-null   datetime64[ns]\n",
      "dtypes: datetime64[ns](2), int64(1)\n",
      "memory usage: 47.0 KB\n"
     ]
    }
   ],
   "source": [
    "user_data = {'user_id': np.arange(0,2000), \n",
    "             'subscription_date': np.random.randint(1,150, size=2000), \n",
    "             'today': date.today()}\n",
    "user_df = pd.DataFrame(user_data)\n",
    "user_df['subscription_date'] = pd.to_datetime(user_df['subscription_date'], unit='D', origin=pd.Timestamp('2020-06-01'))\n",
    "user_df['today'] = pd.to_datetime(user_df['today'])\n",
    "user_df.info()"
   ]
  },
  {
   "cell_type": "code",
   "execution_count": 14,
   "id": "20886630",
   "metadata": {},
   "outputs": [
    {
     "name": "stdout",
     "output_type": "stream",
     "text": [
      "<class 'pandas.core.frame.DataFrame'>\n",
      "RangeIndex: 2000 entries, 0 to 1999\n",
      "Data columns (total 4 columns):\n",
      " #   Column             Non-Null Count  Dtype         \n",
      "---  ------             --------------  -----         \n",
      " 0   user_id            2000 non-null   int64         \n",
      " 1   subscription_date  2000 non-null   datetime64[ns]\n",
      " 2   today              2000 non-null   datetime64[ns]\n",
      " 3   days_enrolled      2000 non-null   int64         \n",
      "dtypes: datetime64[ns](2), int64(2)\n",
      "memory usage: 62.6 KB\n"
     ]
    }
   ],
   "source": [
    "user_df['days_enrolled'] = (user_df['today'] - user_df['subscription_date']).dt.days\n",
    "user_df.info()"
   ]
  },
  {
   "cell_type": "code",
   "execution_count": 15,
   "id": "fbe92751",
   "metadata": {},
   "outputs": [
    {
     "data": {
      "image/png": "[encoded data removed]",
      "text/plain": [
       "<Figure size 432x288 with 1 Axes>"
      ]
     },
     "metadata": {
      "needs_background": "light"
     },
     "output_type": "display_data"
    }
   ],
   "source": [
    "plt.hist(user_df['days_enrolled']);"
   ]
  },
  {
   "cell_type": "code",
   "execution_count": 7,
   "id": "77ecd741",
   "metadata": {},
   "outputs": [],
   "source": [
    "user_df.to_csv('/home/pedro/code/gontijo-pedro/Customer_Analysis/raw_data/user_df.csv', index=False)"
   ]
  },
  {
   "cell_type": "code",
   "execution_count": 8,
   "id": "4b255169",
   "metadata": {},
   "outputs": [],
   "source": [
    "action_df.to_csv('/home/pedro/code/gontijo-pedro/Customer_Analysis/raw_data/action_df.csv', index=False)"
   ]
  },
  {
   "cell_type": "code",
   "execution_count": 9,
   "id": "b3a6794f",
   "metadata": {},
   "outputs": [
    {
     "data": {
      "text/plain": [
       "array([[<AxesSubplot:title={'center':'action_id'}>,\n",
       "        <AxesSubplot:title={'center':'user_id'}>],\n",
       "       [<AxesSubplot:title={'center':'action_date'}>, <AxesSubplot:>]],\n",
       "      dtype=object)"
      ]
     },
     "execution_count": 9,
     "metadata": {},
     "output_type": "execute_result"
    },
    {
     "data": {
      "image/png": "[encoded data removed]",
      "text/plain": [
       "<Figure size 432x288 with 4 Axes>"
      ]
     },
     "metadata": {
      "needs_background": "light"
     },
     "output_type": "display_data"
    }
   ],
   "source": [
    "action_df.hist()"
   ]
  },
  {
   "cell_type": "code",
   "execution_count": null,
   "id": "67018a3b",
   "metadata": {},
   "outputs": [],
   "source": []
  }
 ],
 "metadata": {
  "kernelspec": {
   "display_name": "Python 3 (ipykernel)",
   "language": "python",
   "name": "python3"
  },
  "language_info": {
   "codemirror_mode": {
    "name": "ipython",
    "version": 3
   },
   "file_extension": ".py",
   "mimetype": "text/x-python",
   "name": "python",
   "nbconvert_exporter": "python",
   "pygments_lexer": "ipython3",
   "version": "3.8.12"
  },
  "toc": {
   "base_numbering": 1,
   "nav_menu": {},
   "number_sections": true,
   "sideBar": true,
   "skip_h1_title": false,
   "title_cell": "Table of Contents",
   "title_sidebar": "Contents",
   "toc_cell": false,
   "toc_position": {},
   "toc_section_display": true,
   "toc_window_display": false
  }
 },
 "nbformat": 4,
 "nbformat_minor": 5
}
